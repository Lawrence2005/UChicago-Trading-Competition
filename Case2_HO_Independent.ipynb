{
 "cells": [
  {
   "cell_type": "code",
   "execution_count": 1,
   "metadata": {},
   "outputs": [],
   "source": [
    "import pandas as pd\n",
    "import numpy as np\n",
    "import seaborn as sns\n",
    "import matplotlib.pyplot as plt\n",
    "import pandas as pd\n",
    "from sklearn.model_selection import train_test_split"
   ]
  },
  {
   "cell_type": "markdown",
   "metadata": {},
   "source": [
    "# On the Docket:\n",
    "\n",
    "### Stub Strategy (Equal weighted portf)\n",
    "### Backtesting infrastructure\n",
    "### Other implementations --> Risk Parity, MV allocation, Weighted MV allocation, mixing previous strategies w/ weights\n",
    "### Optimization sharpe ratio in levels (window size, strategy, rebalancing rate)."
   ]
  },
  {
   "cell_type": "code",
   "execution_count": 2,
   "metadata": {},
   "outputs": [
    {
     "data": {
      "text/plain": [
       "(7800, 6)"
      ]
     },
     "execution_count": 2,
     "metadata": {},
     "output_type": "execute_result"
    }
   ],
   "source": [
    "# Fetching Data\n",
    "\n",
    "data = pd.read_csv('Case2.csv')\n",
    "TRAIN, TEST = train_test_split(data, test_size = 0.2, shuffle = False)\n",
    "\n",
    "np.shape(TEST)"
   ]
  },
  {
   "cell_type": "markdown",
   "metadata": {},
   "source": [
    "## Stub Code"
   ]
  },
  {
   "cell_type": "code",
   "execution_count": 3,
   "metadata": {},
   "outputs": [
    {
     "name": "stdout",
     "output_type": "stream",
     "text": [
      "0.010993821121174302\n"
     ]
    }
   ],
   "source": [
    "'''\n",
    "We recommend that you change your train and test split\n",
    "'''\n",
    "\n",
    "#TRAIN, TEST = train_test_split(data, test_size = 0.2, shuffle = False)\n",
    "\n",
    "\n",
    "# Change init variables and allocate method in order to change behavior of the allocations.\n",
    "\n",
    "class Allocator():\n",
    "    def __init__(self, train_data):\n",
    "        '''\n",
    "        Anything data you want to store between days must be stored in a class field\n",
    "        '''\n",
    "        \n",
    "        self.running_price_paths = train_data.copy()\n",
    "        \n",
    "        self.train_data = train_data.copy()\n",
    "        \n",
    "        # Do any preprocessing here -- do not touch running_price_paths, it will store the price path up to that data\n",
    "        \n",
    "        \n",
    "    def allocate_portfolio(self, asset_prices):\n",
    "        '''\n",
    "        asset_prices: np array of length 6, prices of the 6 assets on a particular day\n",
    "        weights: np array of length 6, portfolio allocation for the next day\n",
    "        '''\n",
    "        new_row = pd.DataFrame([asset_prices], columns=self.running_price_paths.columns)\n",
    "        self.running_price_paths = pd.concat([self.running_price_paths, new_row], ignore_index=True)\n",
    "\n",
    "    \n",
    "        ### TODO Implement your code here\n",
    "        weights = np.array([0,1,-1,0.5,0.1,-0.2])\n",
    "        \n",
    "        return weights\n",
    "\n",
    "\n",
    "def grading(train_data, test_data): \n",
    "    '''\n",
    "    Grading Script\n",
    "    '''\n",
    "    weights = np.full(shape=(len(test_data.index),6), fill_value=0.0)\n",
    "    alloc = Allocator(train_data)\n",
    "    for i in range(0,len(test_data)):\n",
    "        weights[i,:] = alloc.allocate_portfolio(test_data.iloc[i,:])\n",
    "        if np.sum(weights < -1) or np.sum(weights > 1):\n",
    "            raise Exception(\"Weights Outside of Bounds\")\n",
    "    \n",
    "    capital = [1]\n",
    "    for i in range(len(test_data) - 1):\n",
    "        shares = capital[-1] * weights[i] / np.array(test_data.iloc[i,:])\n",
    "        balance = capital[-1] - np.dot(shares, np.array(test_data.iloc[i,:]))\n",
    "        net_change = np.dot(shares, np.array(test_data.iloc[i+1,:]))\n",
    "        capital.append(balance + net_change)\n",
    "    capital = np.array(capital)\n",
    "    returns = (capital[1:] - capital[:-1]) / capital[:-1]\n",
    "    \n",
    "    if np.std(returns) != 0:\n",
    "        sharpe = np.mean(returns) / np.std(returns)\n",
    "    else:\n",
    "        sharpe = 0\n",
    "        \n",
    "    return sharpe, capital, weights\n",
    "\n",
    "sharpe, capital, weights = grading(TRAIN, TEST)\n",
    "#Sharpe gets printed to command line\n",
    "print(sharpe)\n",
    "\n",
    "# plt.figure(figsize=(10, 6), dpi=80)\n",
    "# plt.title(\"Capital\")\n",
    "# plt.plot(np.arange(len(TEST)), capital)\n",
    "# plt.show()\n",
    "\n",
    "# plt.figure(figsize=(10, 6), dpi=80)\n",
    "# plt.title(\"Weights\")\n",
    "# plt.plot(np.arange(len(TEST)), weights)\n",
    "# plt.legend(TEST.columns)\n",
    "# plt.show()"
   ]
  },
  {
   "cell_type": "markdown",
   "metadata": {},
   "source": [
    "## Equal Weighted Portfolio"
   ]
  },
  {
   "cell_type": "code",
   "execution_count": 4,
   "metadata": {},
   "outputs": [],
   "source": [
    "class Equal_Allocator(Allocator):\n",
    "\n",
    "    def __init__(self, train_data):\n",
    "        super().__init__(train_data)\n",
    "        self.excess_returns = self.running_price_paths.pct_change()\n",
    "\n",
    "    def allocate_portfolio(self, asset_prices):\n",
    "        '''\n",
    "        asset_prices: np array of length 6, prices of the 6 assets on a particular day\n",
    "        weights: np array of length 6, portfolio allocation for the next day\n",
    "        '''\n",
    "        new_row = pd.DataFrame([asset_prices], columns=self.running_price_paths.columns)\n",
    "        self.running_price_paths = pd.concat([self.running_price_paths, new_row], ignore_index=True)\n",
    "\n",
    "    \n",
    "        ### TODO Implement your code here\n",
    "        weights = np.ones(6)\n",
    "        weights = weights / 6\n",
    "        \n",
    "        return weights"
   ]
  },
  {
   "cell_type": "markdown",
   "metadata": {},
   "source": [
    "## Risk-Parity Allocation"
   ]
  },
  {
   "cell_type": "markdown",
   "metadata": {},
   "source": [
    "### Inverse Vol Matrix --> Fast, somewhat inaccurate, good for daily."
   ]
  },
  {
   "cell_type": "code",
   "execution_count": 10,
   "metadata": {},
   "outputs": [],
   "source": [
    "class Inverse_Vol_Alloc(Allocator):\n",
    "    \n",
    "    def __init__(self, train_data):\n",
    "        '''\n",
    "        Store price history and initialize parameters\n",
    "        '''\n",
    "        super().__init__(train_data)\n",
    "        self.excess_returns = self.running_price_paths.pct_change()\n",
    "        \n",
    "        self.lookback_window = 900\n",
    "        self.current_weights = np.ones(6) / 6\n",
    "\n",
    "    def allocate_portfolio(self, asset_prices):\n",
    "        '''\n",
    "        asset_prices: np array of length 6, prices of the 6 assets on a particular day\n",
    "        weights: np array of length 6, portfolio allocation for the next day\n",
    "        '''\n",
    "        new_row = pd.DataFrame([asset_prices], columns=self.running_price_paths.columns)\n",
    "        self.running_price_paths = pd.concat([self.running_price_paths, new_row], ignore_index=True)\n",
    "        new_excess_returns = pd.DataFrame(self.running_price_paths.iloc[-2:].pct_change().dropna())\n",
    "        self.excess_returns = pd.concat([self.excess_returns, new_excess_returns], ignore_index=True)\n",
    "    \n",
    "        ### TODO Implement your code here\n",
    "        \n",
    "        cov_matrix = self.excess_returns.iloc[-self.lookback_window:].cov()\n",
    "        vol = np.sqrt(np.diag(cov_matrix))     # Get standard deviations\n",
    "        inv_vol = 1 / vol                      # Inverse volatility\n",
    "        weights = inv_vol / np.sum(inv_vol)   # Normalize\n",
    "\n",
    "        return weights"
   ]
  },
  {
   "cell_type": "markdown",
   "metadata": {},
   "source": [
    "### True Risk Parity --> Slow, accurate, good for long-term"
   ]
  },
  {
   "cell_type": "markdown",
   "metadata": {},
   "source": [
    "Doesn't work lmaoooo"
   ]
  },
  {
   "cell_type": "code",
   "execution_count": 23,
   "metadata": {},
   "outputs": [],
   "source": [
    "from scipy.optimize import minimize\n",
    "\n",
    "class Risk_Parity_Alloc(Allocator):\n",
    "    \n",
    "    def __init__(self, train_data):\n",
    "        '''\n",
    "        Store price history and initialize parameters\n",
    "        '''\n",
    "        self.running_price_paths = train_data.copy()\n",
    "\n",
    "        self.excess_returns = self.running_price_paths.pct_change()\n",
    "        \n",
    "        self.train_data = train_data.copy()\n",
    "        \n",
    "        self.rebalance_freq = 150    # Rebalance every N ticks\n",
    "        self.tick_counter = 0\n",
    "        self.current_weights = np.ones(6) / 6\n",
    "\n",
    "    def risk_contributions(self, weights, cov_matrix):\n",
    "        port_var = weights.T @ cov_matrix @ weights\n",
    "        marginal = cov_matrix @ weights\n",
    "        total_contrib = weights * marginal\n",
    "        return total_contrib / np.sqrt(port_var)\n",
    "    \n",
    "    def risk_parity_objective(self, weights, cov_matrix):\n",
    "        rc = self.risk_contributions(weights, cov_matrix)\n",
    "        target = np.mean(rc)\n",
    "        return np.sum((rc - target)**2)\n",
    "\n",
    "    def risk_parity_weights(self, cov_matrix):\n",
    "        n = cov_matrix.shape[0]\n",
    "        x0 = np.array([1/n]*n)\n",
    "        constraints = ({'type': 'eq', 'fun': lambda w: np.sum(w) - 1})\n",
    "        bounds = [(0, 1)] * n  # long-only; change to (-1, 1) for leverage\n",
    "        \n",
    "        result = minimize(self.risk_parity_objective, x0, args=(cov_matrix,), method='SLSQP', bounds=bounds, constraints=constraints)\n",
    "        \n",
    "        return result.x if result.success else x0\n",
    "\n",
    "\n",
    "    def allocate_portfolio(self, asset_prices):\n",
    "        '''\n",
    "        asset_prices: np array of length 6, prices of the 6 assets on a particular day\n",
    "        weights: np array of length 6, portfolio allocation for the next day\n",
    "        '''\n",
    "    \n",
    "        ### TODO Implement your code here\n",
    "\n",
    "        new_row = pd.DataFrame([asset_prices], columns=self.running_price_paths.columns)\n",
    "        self.running_price_paths = pd.concat([self.running_price_paths, new_row], ignore_index=True)\n",
    "        new_excess_returns = pd.DataFrame(self.running_price_paths.iloc[-2:].pct_change().dropna())\n",
    "        self.excess_returns = pd.concat([self.excess_returns, new_excess_returns], ignore_index=True)\n",
    "        \n",
    "        if self.tick_counter % self.rebalance_freq != 0:\n",
    "            self.tick_counter += 1\n",
    "            return self.current_weights\n",
    "\n",
    "        cov_matrix = self.excess_returns.cov()\n",
    "\n",
    "        self.current_weights = self.risk_parity_weights(cov_matrix)\n",
    "\n",
    "        self.tick_counter += 1\n",
    "\n",
    "        return self.current_weights\n"
   ]
  },
  {
   "cell_type": "markdown",
   "metadata": {},
   "source": [
    "## Mean Variance Allocation"
   ]
  },
  {
   "cell_type": "code",
   "execution_count": null,
   "metadata": {},
   "outputs": [],
   "source": [
    "class MV_Alloc(Allocator):\n",
    "\n",
    "    def __init__(self, train_data):\n",
    "        super().__init__(train_data)\n",
    "        "
   ]
  },
  {
   "cell_type": "markdown",
   "metadata": {},
   "source": [
    "## Testing Section"
   ]
  },
  {
   "cell_type": "code",
   "execution_count": 25,
   "metadata": {},
   "outputs": [
    {
     "name": "stdout",
     "output_type": "stream",
     "text": [
      "        Asset_1   Asset_2   Asset_3   Asset_4   Asset_5   Asset_6\n",
      "0           NaN       NaN       NaN       NaN       NaN       NaN\n",
      "1      0.000116  0.000057  0.000004  0.001425 -0.000351  0.001650\n",
      "2     -0.000449 -0.000318 -0.000002  0.001048 -0.000341 -0.000098\n",
      "3      0.000403  0.002958 -0.000002  0.004954  0.002361  0.000755\n",
      "4      0.000156 -0.002978  0.000005 -0.000328  0.000271 -0.003258\n",
      "...         ...       ...       ...       ...       ...       ...\n",
      "38995 -0.001466  0.000610 -0.000550  0.001652 -0.000586 -0.005704\n",
      "38996  0.001672 -0.000655 -0.001418  0.004356  0.001886  0.006550\n",
      "38997 -0.000171  0.000095  0.000390  0.002293 -0.000538 -0.001162\n",
      "38998 -0.001501  0.000863  0.001465  0.001398 -0.000117 -0.001535\n",
      "38999  0.000987  0.000331 -0.001036 -0.000063 -0.001631  0.004066\n",
      "\n",
      "[39000 rows x 6 columns]\n",
      "-0.0024006318819300492\n"
     ]
    },
    {
     "data": {
      "image/png": "[encoded data removed]",
      "text/plain": [
       "<Figure size 800x480 with 1 Axes>"
      ]
     },
     "metadata": {},
     "output_type": "display_data"
    },
    {
     "data": {
      "image/png": "[encoded data removed]",
      "text/plain": [
       "<Figure size 800x480 with 1 Axes>"
      ]
     },
     "metadata": {},
     "output_type": "display_data"
    }
   ],
   "source": [
    "# Backtesting Code\n",
    "\n",
    "def grading(train_data, test_data): \n",
    "    '''\n",
    "    Grading Script\n",
    "    '''\n",
    "    weights = np.full(shape=(len(test_data.index),6), fill_value=0.0)\n",
    "    alloc = Risk_Parity_Alloc(train_data)\n",
    "    for i in range(0,len(test_data)):\n",
    "        #print(i)\n",
    "        weights[i,:] = alloc.allocate_portfolio(test_data.iloc[i,:])\n",
    "        if np.sum(weights < -1) or np.sum(weights > 1):\n",
    "            raise Exception(\"Weights Outside of Bounds\")\n",
    "\n",
    "    print(alloc.excess_returns)\n",
    "    \n",
    "    capital = [1]\n",
    "    for i in range(len(test_data) - 1):\n",
    "        shares = capital[-1] * weights[i] / np.array(test_data.iloc[i,:])\n",
    "        balance = capital[-1] - np.dot(shares, np.array(test_data.iloc[i,:]))\n",
    "        net_change = np.dot(shares, np.array(test_data.iloc[i+1,:]))\n",
    "        capital.append(balance + net_change)\n",
    "    capital = np.array(capital)\n",
    "    returns = (capital[1:] - capital[:-1]) / capital[:-1]\n",
    "    \n",
    "    if np.std(returns) != 0:\n",
    "        sharpe = np.mean(returns) / np.std(returns)\n",
    "    else:\n",
    "        sharpe = 0\n",
    "        \n",
    "    return sharpe, capital, weights\n",
    "\n",
    "sharpe, capital, weights = grading(TRAIN, TEST)\n",
    "#Sharpe gets printed to command line\n",
    "print(sharpe)\n",
    "\n",
    "plt.figure(figsize=(10, 6), dpi=80)\n",
    "plt.title(\"Capital\")\n",
    "plt.plot(np.arange(len(TEST)), capital)\n",
    "plt.show()\n",
    "\n",
    "plt.figure(figsize=(10, 6), dpi=80)\n",
    "plt.title(\"Weights\")\n",
    "plt.plot(np.arange(len(TEST)), weights)\n",
    "plt.legend(TEST.columns)\n",
    "plt.show()"
   ]
  }
 ],
 "metadata": {
  "kernelspec": {
   "display_name": "Trading_Comp",
   "language": "python",
   "name": "python3"
  },
  "language_info": {
   "codemirror_mode": {
    "name": "ipython",
    "version": 3
   },
   "file_extension": ".py",
   "mimetype": "text/x-python",
   "name": "python",
   "nbconvert_exporter": "python",
   "pygments_lexer": "ipython3",
   "version": "3.11.0"
  }
 },
 "nbformat": 4,
 "nbformat_minor": 2
}
