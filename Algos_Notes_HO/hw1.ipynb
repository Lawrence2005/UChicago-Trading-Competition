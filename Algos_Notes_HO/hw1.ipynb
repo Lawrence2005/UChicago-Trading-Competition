{
 "cells": [
  {
   "cell_type": "code",
   "execution_count": 1,
   "metadata": {},
   "outputs": [],
   "source": [
    "import pandas as pd\n",
    "import numpy as np\n",
    "import matplotlib.pyplot as plt\n",
    "import seaborn as sns\n",
    "\n",
    "# Load the data\n",
    "# There are three sheets in the xlsx file --> Specify excess returns\n",
    "file_path = 'multi_asset_etf_data-2.xlsx'\n",
    "excess_returns = pd.read_excel(file_path, sheet_name=\"excess returns\", index_col=0, engine = \"openpyxl\")"
   ]
  },
  {
   "cell_type": "code",
   "execution_count": 2,
   "metadata": {},
   "outputs": [
    {
     "data": {
      "text/html": [
       "<div>\n",
       "<style scoped>\n",
       "    .dataframe tbody tr th:only-of-type {\n",
       "        vertical-align: middle;\n",
       "    }\n",
       "\n",
       "    .dataframe tbody tr th {\n",
       "        vertical-align: top;\n",
       "    }\n",
       "\n",
       "    .dataframe thead th {\n",
       "        text-align: right;\n",
       "    }\n",
       "</style>\n",
       "<table border=\"1\" class=\"dataframe\">\n",
       "  <thead>\n",
       "    <tr style=\"text-align: right;\">\n",
       "      <th></th>\n",
       "      <th>BWX</th>\n",
       "      <th>DBC</th>\n",
       "      <th>EEM</th>\n",
       "      <th>EFA</th>\n",
       "      <th>HYG</th>\n",
       "      <th>IEF</th>\n",
       "      <th>IYR</th>\n",
       "      <th>PSP</th>\n",
       "      <th>QAI</th>\n",
       "      <th>SPY</th>\n",
       "      <th>TIP</th>\n",
       "    </tr>\n",
       "    <tr>\n",
       "      <th>Date</th>\n",
       "      <th></th>\n",
       "      <th></th>\n",
       "      <th></th>\n",
       "      <th></th>\n",
       "      <th></th>\n",
       "      <th></th>\n",
       "      <th></th>\n",
       "      <th></th>\n",
       "      <th></th>\n",
       "      <th></th>\n",
       "      <th></th>\n",
       "    </tr>\n",
       "  </thead>\n",
       "  <tbody>\n",
       "    <tr>\n",
       "      <th>2009-04-30</th>\n",
       "      <td>0.008440</td>\n",
       "      <td>-0.001554</td>\n",
       "      <td>0.155029</td>\n",
       "      <td>0.114637</td>\n",
       "      <td>0.137906</td>\n",
       "      <td>-0.028005</td>\n",
       "      <td>0.295598</td>\n",
       "      <td>0.229649</td>\n",
       "      <td>0.022329</td>\n",
       "      <td>0.098793</td>\n",
       "      <td>-0.018505</td>\n",
       "    </tr>\n",
       "    <tr>\n",
       "      <th>2009-05-31</th>\n",
       "      <td>0.054143</td>\n",
       "      <td>0.163134</td>\n",
       "      <td>0.159871</td>\n",
       "      <td>0.132390</td>\n",
       "      <td>0.029026</td>\n",
       "      <td>-0.020302</td>\n",
       "      <td>0.023198</td>\n",
       "      <td>0.054364</td>\n",
       "      <td>0.028337</td>\n",
       "      <td>0.058925</td>\n",
       "      <td>0.020438</td>\n",
       "    </tr>\n",
       "    <tr>\n",
       "      <th>2009-06-30</th>\n",
       "      <td>0.004550</td>\n",
       "      <td>-0.026858</td>\n",
       "      <td>-0.023093</td>\n",
       "      <td>-0.014648</td>\n",
       "      <td>0.032919</td>\n",
       "      <td>-0.006170</td>\n",
       "      <td>-0.025461</td>\n",
       "      <td>0.044850</td>\n",
       "      <td>-0.004035</td>\n",
       "      <td>-0.001253</td>\n",
       "      <td>0.001383</td>\n",
       "    </tr>\n",
       "    <tr>\n",
       "      <th>2009-07-31</th>\n",
       "      <td>0.031311</td>\n",
       "      <td>0.018594</td>\n",
       "      <td>0.110173</td>\n",
       "      <td>0.100441</td>\n",
       "      <td>0.069217</td>\n",
       "      <td>0.008344</td>\n",
       "      <td>0.105826</td>\n",
       "      <td>0.143275</td>\n",
       "      <td>0.015352</td>\n",
       "      <td>0.074632</td>\n",
       "      <td>0.000905</td>\n",
       "    </tr>\n",
       "    <tr>\n",
       "      <th>2009-08-31</th>\n",
       "      <td>0.007192</td>\n",
       "      <td>-0.040800</td>\n",
       "      <td>-0.013571</td>\n",
       "      <td>0.044595</td>\n",
       "      <td>-0.017405</td>\n",
       "      <td>0.007199</td>\n",
       "      <td>0.131503</td>\n",
       "      <td>0.032977</td>\n",
       "      <td>-0.004586</td>\n",
       "      <td>0.036504</td>\n",
       "      <td>0.007978</td>\n",
       "    </tr>\n",
       "  </tbody>\n",
       "</table>\n",
       "</div>"
      ],
      "text/plain": [
       "                 BWX       DBC       EEM       EFA       HYG       IEF  \\\n",
       "Date                                                                     \n",
       "2009-04-30  0.008440 -0.001554  0.155029  0.114637  0.137906 -0.028005   \n",
       "2009-05-31  0.054143  0.163134  0.159871  0.132390  0.029026 -0.020302   \n",
       "2009-06-30  0.004550 -0.026858 -0.023093 -0.014648  0.032919 -0.006170   \n",
       "2009-07-31  0.031311  0.018594  0.110173  0.100441  0.069217  0.008344   \n",
       "2009-08-31  0.007192 -0.040800 -0.013571  0.044595 -0.017405  0.007199   \n",
       "\n",
       "                 IYR       PSP       QAI       SPY       TIP  \n",
       "Date                                                          \n",
       "2009-04-30  0.295598  0.229649  0.022329  0.098793 -0.018505  \n",
       "2009-05-31  0.023198  0.054364  0.028337  0.058925  0.020438  \n",
       "2009-06-30 -0.025461  0.044850 -0.004035 -0.001253  0.001383  \n",
       "2009-07-31  0.105826  0.143275  0.015352  0.074632  0.000905  \n",
       "2009-08-31  0.131503  0.032977 -0.004586  0.036504  0.007978  "
      ]
     },
     "execution_count": 2,
     "metadata": {},
     "output_type": "execute_result"
    }
   ],
   "source": [
    "# Display the first few rows of the dataframe\n",
    "excess_returns.head()"
   ]
  },
  {
   "cell_type": "code",
   "execution_count": 3,
   "metadata": {},
   "outputs": [],
   "source": [
    "# Annualization factors\n",
    "annual_factor_mean = 12\n",
    "annual_factor_volatility = np.sqrt(12)\n",
    "annual_factor_sharpe = np.sqrt(12)"
   ]
  },
  {
   "cell_type": "code",
   "execution_count": 10,
   "metadata": {},
   "outputs": [
    {
     "data": {
      "text/html": [
       "<div>\n",
       "<style scoped>\n",
       "    .dataframe tbody tr th:only-of-type {\n",
       "        vertical-align: middle;\n",
       "    }\n",
       "\n",
       "    .dataframe tbody tr th {\n",
       "        vertical-align: top;\n",
       "    }\n",
       "\n",
       "    .dataframe thead th {\n",
       "        text-align: right;\n",
       "    }\n",
       "</style>\n",
       "<table border=\"1\" class=\"dataframe\">\n",
       "  <thead>\n",
       "    <tr style=\"text-align: right;\">\n",
       "      <th></th>\n",
       "      <th>Mean</th>\n",
       "      <th>Vol</th>\n",
       "      <th>Sharpe Ratio</th>\n",
       "    </tr>\n",
       "  </thead>\n",
       "  <tbody>\n",
       "    <tr>\n",
       "      <th>SPY</th>\n",
       "      <td>0.145133</td>\n",
       "      <td>0.147890</td>\n",
       "      <td>0.981357</td>\n",
       "    </tr>\n",
       "    <tr>\n",
       "      <th>HYG</th>\n",
       "      <td>0.062909</td>\n",
       "      <td>0.088292</td>\n",
       "      <td>0.712512</td>\n",
       "    </tr>\n",
       "    <tr>\n",
       "      <th>IYR</th>\n",
       "      <td>0.122743</td>\n",
       "      <td>0.189811</td>\n",
       "      <td>0.646659</td>\n",
       "    </tr>\n",
       "    <tr>\n",
       "      <th>PSP</th>\n",
       "      <td>0.134369</td>\n",
       "      <td>0.226988</td>\n",
       "      <td>0.591964</td>\n",
       "    </tr>\n",
       "    <tr>\n",
       "      <th>EFA</th>\n",
       "      <td>0.083817</td>\n",
       "      <td>0.164818</td>\n",
       "      <td>0.508542</td>\n",
       "    </tr>\n",
       "    <tr>\n",
       "      <th>TIP</th>\n",
       "      <td>0.020233</td>\n",
       "      <td>0.051752</td>\n",
       "      <td>0.390955</td>\n",
       "    </tr>\n",
       "    <tr>\n",
       "      <th>QAI</th>\n",
       "      <td>0.019373</td>\n",
       "      <td>0.050940</td>\n",
       "      <td>0.380306</td>\n",
       "    </tr>\n",
       "    <tr>\n",
       "      <th>EEM</th>\n",
       "      <td>0.064970</td>\n",
       "      <td>0.194206</td>\n",
       "      <td>0.334541</td>\n",
       "    </tr>\n",
       "    <tr>\n",
       "      <th>IEF</th>\n",
       "      <td>0.011250</td>\n",
       "      <td>0.064291</td>\n",
       "      <td>0.174981</td>\n",
       "    </tr>\n",
       "    <tr>\n",
       "      <th>DBC</th>\n",
       "      <td>0.021884</td>\n",
       "      <td>0.175468</td>\n",
       "      <td>0.124717</td>\n",
       "    </tr>\n",
       "    <tr>\n",
       "      <th>BWX</th>\n",
       "      <td>-0.004532</td>\n",
       "      <td>0.085384</td>\n",
       "      <td>-0.053080</td>\n",
       "    </tr>\n",
       "  </tbody>\n",
       "</table>\n",
       "</div>"
      ],
      "text/plain": [
       "         Mean       Vol  Sharpe Ratio\n",
       "SPY  0.145133  0.147890      0.981357\n",
       "HYG  0.062909  0.088292      0.712512\n",
       "IYR  0.122743  0.189811      0.646659\n",
       "PSP  0.134369  0.226988      0.591964\n",
       "EFA  0.083817  0.164818      0.508542\n",
       "TIP  0.020233  0.051752      0.390955\n",
       "QAI  0.019373  0.050940      0.380306\n",
       "EEM  0.064970  0.194206      0.334541\n",
       "IEF  0.011250  0.064291      0.174981\n",
       "DBC  0.021884  0.175468      0.124717\n",
       "BWX -0.004532  0.085384     -0.053080"
      ]
     },
     "execution_count": 10,
     "metadata": {},
     "output_type": "execute_result"
    }
   ],
   "source": [
    "# 1. Summary Statistics\n",
    "# (a) Calculate and display the mean and volatility of each asset’s excess return\n",
    "\n",
    "# Initialize dictionary\n",
    "stats = {}\n",
    "# mean() and std() return series. These are placed into the stats dictionary\n",
    "stats[\"Mean\"] = excess_returns.mean() * annual_factor_mean\n",
    "stats[\"Vol\"] = excess_returns.std() * annual_factor_volatility\n",
    "# Dividing excess returns by volatility to find the sharpe ratio\n",
    "stats[\"Sharpe Ratio\"] = stats[\"Mean\"] / stats[\"Vol\"]\n",
    "# Converting to a dataframe.\n",
    "stats = pd.DataFrame(stats)\n",
    "# Sorting in asecending order (bottom to top) by sharpe ratio\n",
    "stats.sort_values(\"Sharpe Ratio\", ascending=False)"
   ]
  },
  {
   "cell_type": "markdown",
   "metadata": {},
   "source": [
    "b) SPY has the greatest sharpe ratio. BWX has the worst sharpe ratio."
   ]
  },
  {
   "cell_type": "code",
   "execution_count": 11,
   "metadata": {},
   "outputs": [
    {
     "data": {
      "text/plain": [
       "<AxesSubplot:>"
      ]
     },
     "execution_count": 11,
     "metadata": {},
     "output_type": "execute_result"
    },
    {
     "data": {
      "image/png": "[encoded data removed]",
      "text/plain": [
       "<Figure size 432x288 with 2 Axes>"
      ]
     },
     "metadata": {
      "needs_background": "light"
     },
     "output_type": "display_data"
    }
   ],
   "source": [
    "# 2. Descriptive Analysis\n",
    "#(a) Calculate the correlation matrix of the returns. Which pair has the highest correlation? And the lowest?\n",
    "\n",
    "correlations = excess_returns.corr()\n",
    "# Heatmap function from seaborn. vmin and vmax determine the max and min values for the heatmap. fmt determines the decimal places.\n",
    "sns.heatmap(correlations, vmin = -1, vmax = 1, annot = True, fmt = \"0.2f\")"
   ]
  },
  {
   "cell_type": "markdown",
   "metadata": {},
   "source": [
    "We can see that SPY and PSP have had the higest correlation at 0.90 while IEF and DBC have had the lowest at -0.32."
   ]
  },
  {
   "cell_type": "code",
   "execution_count": 12,
   "metadata": {},
   "outputs": [
    {
     "data": {
      "text/html": [
       "<div>\n",
       "<style scoped>\n",
       "    .dataframe tbody tr th:only-of-type {\n",
       "        vertical-align: middle;\n",
       "    }\n",
       "\n",
       "    .dataframe tbody tr th {\n",
       "        vertical-align: top;\n",
       "    }\n",
       "\n",
       "    .dataframe thead th {\n",
       "        text-align: right;\n",
       "    }\n",
       "</style>\n",
       "<table border=\"1\" class=\"dataframe\">\n",
       "  <thead>\n",
       "    <tr style=\"text-align: right;\">\n",
       "      <th></th>\n",
       "      <th>Mean</th>\n",
       "      <th>Vol</th>\n",
       "      <th>Sharpe Ratio</th>\n",
       "    </tr>\n",
       "  </thead>\n",
       "  <tbody>\n",
       "    <tr>\n",
       "      <th>IEF</th>\n",
       "      <td>0.011250</td>\n",
       "      <td>0.064291</td>\n",
       "      <td>0.174981</td>\n",
       "    </tr>\n",
       "    <tr>\n",
       "      <th>BWX</th>\n",
       "      <td>-0.004532</td>\n",
       "      <td>0.085384</td>\n",
       "      <td>-0.053080</td>\n",
       "    </tr>\n",
       "    <tr>\n",
       "      <th>TIP</th>\n",
       "      <td>0.020233</td>\n",
       "      <td>0.051752</td>\n",
       "      <td>0.390955</td>\n",
       "    </tr>\n",
       "  </tbody>\n",
       "</table>\n",
       "</div>"
      ],
      "text/plain": [
       "         Mean       Vol  Sharpe Ratio\n",
       "IEF  0.011250  0.064291      0.174981\n",
       "BWX -0.004532  0.085384     -0.053080\n",
       "TIP  0.020233  0.051752      0.390955"
      ]
     },
     "execution_count": 12,
     "metadata": {},
     "output_type": "execute_result"
    }
   ],
   "source": [
    "# b) How well have TIPS done in our sample? Have they outperformed domestic bonds? Foreign bonds?\n",
    "\n",
    "# Domestic -> IEF\n",
    "# Foreign -> BWX\n",
    "\n",
    "stats.loc[[\"IEF\", \"BWX\", \"TIP\"]]"
   ]
  },
  {
   "cell_type": "markdown",
   "metadata": {},
   "source": [
    "We can see that TIP has a higher excess returns rate and a lower volatility, which leads to a much higher sharpe ratio. By these metrics, it outperforms the other two."
   ]
  },
  {
   "cell_type": "markdown",
   "metadata": {},
   "source": [
    "c) Based on the data, do TIPS seem to expand the investment opportunity set, implying that Harvard should consider them as a separate asset?\n",
    "\n",
    "It seems as if TIPS does not really expand the investment opportunity set. This implies that Harvard should not consider them as a separate asset."
   ]
  },
  {
   "cell_type": "code",
   "execution_count": 13,
   "metadata": {},
   "outputs": [
    {
     "data": {
      "text/html": [
       "<div>\n",
       "<style scoped>\n",
       "    .dataframe tbody tr th:only-of-type {\n",
       "        vertical-align: middle;\n",
       "    }\n",
       "\n",
       "    .dataframe tbody tr th {\n",
       "        vertical-align: top;\n",
       "    }\n",
       "\n",
       "    .dataframe thead th {\n",
       "        text-align: right;\n",
       "    }\n",
       "</style>\n",
       "<table border=\"1\" class=\"dataframe\">\n",
       "  <thead>\n",
       "    <tr style=\"text-align: right;\">\n",
       "      <th></th>\n",
       "      <th>Tangency Portfolio</th>\n",
       "    </tr>\n",
       "  </thead>\n",
       "  <tbody>\n",
       "    <tr>\n",
       "      <th>BWX</th>\n",
       "      <td>-46.264168</td>\n",
       "    </tr>\n",
       "    <tr>\n",
       "      <th>DBC</th>\n",
       "      <td>1.701262</td>\n",
       "    </tr>\n",
       "    <tr>\n",
       "      <th>EEM</th>\n",
       "      <td>10.018155</td>\n",
       "    </tr>\n",
       "    <tr>\n",
       "      <th>EFA</th>\n",
       "      <td>0.512125</td>\n",
       "    </tr>\n",
       "    <tr>\n",
       "      <th>HYG</th>\n",
       "      <td>34.746935</td>\n",
       "    </tr>\n",
       "    <tr>\n",
       "      <th>IEF</th>\n",
       "      <td>62.959134</td>\n",
       "    </tr>\n",
       "    <tr>\n",
       "      <th>IYR</th>\n",
       "      <td>-12.366143</td>\n",
       "    </tr>\n",
       "    <tr>\n",
       "      <th>PSP</th>\n",
       "      <td>-11.528256</td>\n",
       "    </tr>\n",
       "    <tr>\n",
       "      <th>QAI</th>\n",
       "      <td>-114.131006</td>\n",
       "    </tr>\n",
       "    <tr>\n",
       "      <th>SPY</th>\n",
       "      <td>69.900939</td>\n",
       "    </tr>\n",
       "    <tr>\n",
       "      <th>TIP</th>\n",
       "      <td>5.451023</td>\n",
       "    </tr>\n",
       "  </tbody>\n",
       "</table>\n",
       "</div>"
      ],
      "text/plain": [
       "     Tangency Portfolio\n",
       "BWX          -46.264168\n",
       "DBC            1.701262\n",
       "EEM           10.018155\n",
       "EFA            0.512125\n",
       "HYG           34.746935\n",
       "IEF           62.959134\n",
       "IYR          -12.366143\n",
       "PSP          -11.528256\n",
       "QAI         -114.131006\n",
       "SPY           69.900939\n",
       "TIP            5.451023"
      ]
     },
     "execution_count": 13,
     "metadata": {},
     "output_type": "execute_result"
    }
   ],
   "source": [
    "# 3. The MV frontier.\n",
    "# a) Compute and display the weights of the tangency portfolios\n",
    "\n",
    "# @ is the matrix multiplication sybol\n",
    "\n",
    "def tangency_portf(mean_returns, cov_matrix):\n",
    "    inverted_cov = np.linalg.inv(cov_matrix)\n",
    "    one_vector = np.ones(mean_returns.shape)\n",
    "    return (inverted_cov @ mean_returns) / (one_vector @ inverted_cov @ mean_returns)\n",
    "\n",
    "\n",
    "w_tan = tangency_portf(excess_returns.mean(), excess_returns.cov())\n",
    "\n",
    "w_tan_df = pd.DataFrame(w_tan, index=excess_returns.columns, columns=[\"Tangency Portfolio\"])\n",
    "\n",
    "w_tan_df\n"
   ]
  },
  {
   "cell_type": "code",
   "execution_count": 14,
   "metadata": {},
   "outputs": [
    {
     "data": {
      "text/html": [
       "<div>\n",
       "<style scoped>\n",
       "    .dataframe tbody tr th:only-of-type {\n",
       "        vertical-align: middle;\n",
       "    }\n",
       "\n",
       "    .dataframe tbody tr th {\n",
       "        vertical-align: top;\n",
       "    }\n",
       "\n",
       "    .dataframe thead th {\n",
       "        text-align: right;\n",
       "    }\n",
       "</style>\n",
       "<table border=\"1\" class=\"dataframe\">\n",
       "  <thead>\n",
       "    <tr style=\"text-align: right;\">\n",
       "      <th></th>\n",
       "      <th>Mean</th>\n",
       "      <th>Vol</th>\n",
       "      <th>Sharpe Ratio</th>\n",
       "    </tr>\n",
       "  </thead>\n",
       "  <tbody>\n",
       "    <tr>\n",
       "      <th>Tangency Portfolio</th>\n",
       "      <td>0.734346</td>\n",
       "      <td>1.52807</td>\n",
       "      <td>0.480571</td>\n",
       "    </tr>\n",
       "  </tbody>\n",
       "</table>\n",
       "</div>"
      ],
      "text/plain": [
       "                        Mean      Vol  Sharpe Ratio\n",
       "Tangency Portfolio  0.734346  1.52807      0.480571"
      ]
     },
     "execution_count": 14,
     "metadata": {},
     "output_type": "execute_result"
    }
   ],
   "source": [
    "# b)\n",
    "w_tan_rets = pd.DataFrame(excess_returns @ w_tan_df)\n",
    "\n",
    "tan_stats = {}\n",
    "tan_stats[\"Mean\"] = w_tan_rets.mean()\n",
    "tan_stats[\"Vol\"] = w_tan_rets.std()\n",
    "tan_stats[\"Sharpe Ratio\"] = tan_stats[\"Mean\"] / tan_stats[\"Vol\"]    \n",
    "# Converting to a dataframe.\n",
    "tan_stats = pd.DataFrame(tan_stats)\n",
    "tan_stats"
   ]
  },
  {
   "cell_type": "code",
   "execution_count": 15,
   "metadata": {},
   "outputs": [
    {
     "data": {
      "text/plain": [
       "array([-0.47250351,  0.01737527,  0.10231706,  0.00523041,  0.35487613,\n",
       "        0.64301193, -0.12629744, -0.11773996, -1.16563863,  0.71390971,\n",
       "        0.05567219])"
      ]
     },
     "execution_count": 15,
     "metadata": {},
     "output_type": "execute_result"
    }
   ],
   "source": [
    "# 4. The allocation.\n",
    "# a) Compute and display the weights of MV portfolios with target returns of μp = .0075.4\n",
    "\n",
    "allocation = tangency_portf(excess_returns.mean(), excess_returns.cov())\n",
    "\n",
    "allocation = allocation * (0.0075 / (excess_returns.mean() @ allocation))\n",
    "allocation"
   ]
  },
  {
   "cell_type": "code",
   "execution_count": 16,
   "metadata": {},
   "outputs": [
    {
     "data": {
      "text/html": [
       "<div>\n",
       "<style scoped>\n",
       "    .dataframe tbody tr th:only-of-type {\n",
       "        vertical-align: middle;\n",
       "    }\n",
       "\n",
       "    .dataframe tbody tr th {\n",
       "        vertical-align: top;\n",
       "    }\n",
       "\n",
       "    .dataframe thead th {\n",
       "        text-align: right;\n",
       "    }\n",
       "</style>\n",
       "<table border=\"1\" class=\"dataframe\">\n",
       "  <thead>\n",
       "    <tr style=\"text-align: right;\">\n",
       "      <th></th>\n",
       "      <th>Mean</th>\n",
       "      <th>Vol</th>\n",
       "      <th>Sharpe Ratio</th>\n",
       "    </tr>\n",
       "  </thead>\n",
       "  <tbody>\n",
       "    <tr>\n",
       "      <th>0</th>\n",
       "      <td>0.0075</td>\n",
       "      <td>0.015606</td>\n",
       "      <td>0.480571</td>\n",
       "    </tr>\n",
       "  </tbody>\n",
       "</table>\n",
       "</div>"
      ],
      "text/plain": [
       "     Mean       Vol  Sharpe Ratio\n",
       "0  0.0075  0.015606      0.480571"
      ]
     },
     "execution_count": 16,
     "metadata": {},
     "output_type": "execute_result"
    }
   ],
   "source": [
    "# b) What is the mean, volatility, and Sharpe ratio for wp?\n",
    "allocation_rets = pd.DataFrame(excess_returns @ allocation)\n",
    "allocation_stats = {}\n",
    "allocation_stats[\"Mean\"] = allocation_rets.mean()\n",
    "allocation_stats[\"Vol\"] = allocation_rets.std()\n",
    "allocation_stats[\"Sharpe Ratio\"] = allocation_stats[\"Mean\"] / allocation_stats[\"Vol\"]\n",
    "\n",
    "allocation_stats = pd.DataFrame(allocation_stats)\n",
    "allocation_stats"
   ]
  },
  {
   "cell_type": "code",
   "execution_count": 17,
   "metadata": {},
   "outputs": [
    {
     "data": {
      "text/html": [
       "<div>\n",
       "<style scoped>\n",
       "    .dataframe tbody tr th:only-of-type {\n",
       "        vertical-align: middle;\n",
       "    }\n",
       "\n",
       "    .dataframe tbody tr th {\n",
       "        vertical-align: top;\n",
       "    }\n",
       "\n",
       "    .dataframe thead th {\n",
       "        text-align: right;\n",
       "    }\n",
       "</style>\n",
       "<table border=\"1\" class=\"dataframe\">\n",
       "  <thead>\n",
       "    <tr style=\"text-align: right;\">\n",
       "      <th></th>\n",
       "      <th>0</th>\n",
       "    </tr>\n",
       "  </thead>\n",
       "  <tbody>\n",
       "    <tr>\n",
       "      <th>0</th>\n",
       "      <td>-0.472504</td>\n",
       "    </tr>\n",
       "    <tr>\n",
       "      <th>1</th>\n",
       "      <td>0.017375</td>\n",
       "    </tr>\n",
       "    <tr>\n",
       "      <th>2</th>\n",
       "      <td>0.102317</td>\n",
       "    </tr>\n",
       "    <tr>\n",
       "      <th>3</th>\n",
       "      <td>0.005230</td>\n",
       "    </tr>\n",
       "    <tr>\n",
       "      <th>4</th>\n",
       "      <td>0.354876</td>\n",
       "    </tr>\n",
       "    <tr>\n",
       "      <th>5</th>\n",
       "      <td>0.643012</td>\n",
       "    </tr>\n",
       "    <tr>\n",
       "      <th>6</th>\n",
       "      <td>-0.126297</td>\n",
       "    </tr>\n",
       "    <tr>\n",
       "      <th>7</th>\n",
       "      <td>-0.117740</td>\n",
       "    </tr>\n",
       "    <tr>\n",
       "      <th>8</th>\n",
       "      <td>-1.165639</td>\n",
       "    </tr>\n",
       "    <tr>\n",
       "      <th>9</th>\n",
       "      <td>0.713910</td>\n",
       "    </tr>\n",
       "    <tr>\n",
       "      <th>10</th>\n",
       "      <td>0.055672</td>\n",
       "    </tr>\n",
       "  </tbody>\n",
       "</table>\n",
       "</div>"
      ],
      "text/plain": [
       "           0\n",
       "0  -0.472504\n",
       "1   0.017375\n",
       "2   0.102317\n",
       "3   0.005230\n",
       "4   0.354876\n",
       "5   0.643012\n",
       "6  -0.126297\n",
       "7  -0.117740\n",
       "8  -1.165639\n",
       "9   0.713910\n",
       "10  0.055672"
      ]
     },
     "execution_count": 17,
     "metadata": {},
     "output_type": "execute_result"
    }
   ],
   "source": [
    "pd.DataFrame(allocation)"
   ]
  },
  {
   "cell_type": "markdown",
   "metadata": {},
   "source": [
    "c) Discuss the allocation. In which assets is the portfolio most long? And short?\n",
    "\n",
    "BWX appears to be the most short. SPY appears to be the longest.\n",
    "\n",
    "d) Does this line up with which assets have the strongest Sharpe ratios?\n",
    "\n",
    "Yes. BWX has the smallest Sharpe Ratio, and SPY has the largest Sharpe Ratio."
   ]
  },
  {
   "cell_type": "code",
   "execution_count": 18,
   "metadata": {},
   "outputs": [
    {
     "data": {
      "text/html": [
       "<div>\n",
       "<style scoped>\n",
       "    .dataframe tbody tr th:only-of-type {\n",
       "        vertical-align: middle;\n",
       "    }\n",
       "\n",
       "    .dataframe tbody tr th {\n",
       "        vertical-align: top;\n",
       "    }\n",
       "\n",
       "    .dataframe thead th {\n",
       "        text-align: right;\n",
       "    }\n",
       "</style>\n",
       "<table border=\"1\" class=\"dataframe\">\n",
       "  <thead>\n",
       "    <tr style=\"text-align: right;\">\n",
       "      <th></th>\n",
       "      <th>Mean</th>\n",
       "      <th>Vol</th>\n",
       "      <th>Sharpe Ratio</th>\n",
       "    </tr>\n",
       "  </thead>\n",
       "  <tbody>\n",
       "    <tr>\n",
       "      <th>0</th>\n",
       "      <td>0.0075</td>\n",
       "      <td>0.04361</td>\n",
       "      <td>0.171979</td>\n",
       "    </tr>\n",
       "  </tbody>\n",
       "</table>\n",
       "</div>"
      ],
      "text/plain": [
       "     Mean      Vol  Sharpe Ratio\n",
       "0  0.0075  0.04361      0.171979"
      ]
     },
     "execution_count": 18,
     "metadata": {},
     "output_type": "execute_result"
    }
   ],
   "source": [
    "# 5. Simple Portfolios\n",
    "# a) Calculate the performance of the equally-weighted portfolio over the sample. \n",
    "# Rescale the entire weighting vector to have target mean μp = .0075. \n",
    "# Report its mean, volatility, and Sharpe ratio.\n",
    "\n",
    "\n",
    "equal_weighted = np.ones(len(excess_returns.columns)) / len(excess_returns.columns)\n",
    "equal_weighted = equal_weighted * (0.0075 / (excess_returns.mean() @ equal_weighted))\n",
    "\n",
    "\n",
    "# Calculate the returns of the equal weighted portfolio.\n",
    "eq_rets = pd.DataFrame(excess_returns @ equal_weighted)\n",
    "eq_stats = {}\n",
    "eq_stats[\"Mean\"] = eq_rets.mean()\n",
    "eq_stats[\"Vol\"] = eq_rets.std()\n",
    "eq_stats[\"Sharpe Ratio\"] = eq_stats[\"Mean\"] / eq_stats[\"Vol\"]\n",
    "\n",
    "eq_stats = pd.DataFrame(eq_stats)\n",
    "eq_stats"
   ]
  },
  {
   "cell_type": "code",
   "execution_count": 19,
   "metadata": {
    "scrolled": true
   },
   "outputs": [
    {
     "data": {
      "text/html": [
       "<div>\n",
       "<style scoped>\n",
       "    .dataframe tbody tr th:only-of-type {\n",
       "        vertical-align: middle;\n",
       "    }\n",
       "\n",
       "    .dataframe tbody tr th {\n",
       "        vertical-align: top;\n",
       "    }\n",
       "\n",
       "    .dataframe thead th {\n",
       "        text-align: right;\n",
       "    }\n",
       "</style>\n",
       "<table border=\"1\" class=\"dataframe\">\n",
       "  <thead>\n",
       "    <tr style=\"text-align: right;\">\n",
       "      <th></th>\n",
       "      <th>Mean</th>\n",
       "      <th>Vol</th>\n",
       "      <th>Sharpe Ratio</th>\n",
       "    </tr>\n",
       "  </thead>\n",
       "  <tbody>\n",
       "    <tr>\n",
       "      <th>0</th>\n",
       "      <td>0.0075</td>\n",
       "      <td>0.044732</td>\n",
       "      <td>0.167665</td>\n",
       "    </tr>\n",
       "  </tbody>\n",
       "</table>\n",
       "</div>"
      ],
      "text/plain": [
       "     Mean       Vol  Sharpe Ratio\n",
       "0  0.0075  0.044732      0.167665"
      ]
     },
     "execution_count": 19,
     "metadata": {},
     "output_type": "execute_result"
    }
   ],
   "source": [
    "# b) Calculate the performance of the “risk-parity” portfolio over the sample. Risk-parity is a\n",
    "# term used in a variety of ways, but here we have in mind setting the weight of the portfolio\n",
    "# to be proportional to the inverse of its full-sample volatility estimate\n",
    "\n",
    "risk_parity = 1/excess_returns.std()\n",
    "\n",
    "risk_parity = risk_parity * (0.0075 / (excess_returns.mean() @ risk_parity))\n",
    "\n",
    "# Calculate the returns of the equal weighted portfolio.\n",
    "risk_parity_rets = pd.DataFrame(excess_returns @ risk_parity)\n",
    "rp_stats = {}\n",
    "rp_stats[\"Mean\"] = risk_parity_rets.mean()\n",
    "rp_stats[\"Vol\"] = risk_parity_rets.std()\n",
    "rp_stats[\"Sharpe Ratio\"] = rp_stats[\"Mean\"] / rp_stats[\"Vol\"]\n",
    "\n",
    "rp_stats = pd.DataFrame(rp_stats)\n",
    "rp_stats"
   ]
  },
  {
   "cell_type": "markdown",
   "metadata": {},
   "source": [
    "c) How does these compare to the MV portfolio from problem 2.4?\n",
    "\n",
    "The volatility is slightly higher, and the sharpe ratio is slightly lower."
   ]
  },
  {
   "cell_type": "code",
   "execution_count": 20,
   "metadata": {},
   "outputs": [
    {
     "data": {
      "text/html": [
       "<div>\n",
       "<style scoped>\n",
       "    .dataframe tbody tr th:only-of-type {\n",
       "        vertical-align: middle;\n",
       "    }\n",
       "\n",
       "    .dataframe tbody tr th {\n",
       "        vertical-align: top;\n",
       "    }\n",
       "\n",
       "    .dataframe thead th {\n",
       "        text-align: right;\n",
       "    }\n",
       "</style>\n",
       "<table border=\"1\" class=\"dataframe\">\n",
       "  <thead>\n",
       "    <tr style=\"text-align: right;\">\n",
       "      <th></th>\n",
       "      <th>Mean</th>\n",
       "      <th>Vol</th>\n",
       "      <th>Sharpe Ratio</th>\n",
       "    </tr>\n",
       "  </thead>\n",
       "  <tbody>\n",
       "    <tr>\n",
       "      <th>0</th>\n",
       "      <td>0.0075</td>\n",
       "      <td>0.015612</td>\n",
       "      <td>0.480388</td>\n",
       "    </tr>\n",
       "  </tbody>\n",
       "</table>\n",
       "</div>"
      ],
      "text/plain": [
       "     Mean       Vol  Sharpe Ratio\n",
       "0  0.0075  0.015612      0.480388"
      ]
     },
     "execution_count": 20,
     "metadata": {},
     "output_type": "execute_result"
    }
   ],
   "source": [
    "# 6. Assess how much the Sharpe Ratio goes down if we drop TIPS from the investment set, (and\n",
    "# just have a 10-asset problem.) See how much it decreases the performance statistics in 2.4. And\n",
    "# how much worse is the performance in 3.3?\n",
    "\n",
    "no_TIP = excess_returns.drop('TIP', axis=1)\n",
    "no_TIP_portf = tangency_portf(no_TIP.mean(), no_TIP.cov())\n",
    "\n",
    "no_TIP_portf = no_TIP_portf * (0.0075 / (no_TIP.mean() @ no_TIP_portf))\n",
    "no_TIP_returns = pd.DataFrame(no_TIP @ no_TIP_portf)\n",
    "no_TIP_stats = {}\n",
    "no_TIP_stats[\"Mean\"] = no_TIP_returns.mean()\n",
    "no_TIP_stats[\"Vol\"] = no_TIP_returns.std()\n",
    "no_TIP_stats[\"Sharpe Ratio\"] = no_TIP_stats[\"Mean\"] / no_TIP_stats[\"Vol\"]\n",
    "\n",
    "no_TIP_stats = pd.DataFrame(no_TIP_stats)\n",
    "no_TIP_stats"
   ]
  },
  {
   "cell_type": "markdown",
   "metadata": {},
   "source": [
    "The change in performance from the portfolio in 2.4 seems to be very small, likely because the allocation for TIPS was relatively small in the first place."
   ]
  }
 ],
 "metadata": {
  "kernelspec": {
   "display_name": "Python 3",
   "language": "python",
   "name": "python3"
  },
  "language_info": {
   "codemirror_mode": {
    "name": "ipython",
    "version": 3
   },
   "file_extension": ".py",
   "mimetype": "text/x-python",
   "name": "python",
   "nbconvert_exporter": "python",
   "pygments_lexer": "ipython3",
   "version": "3.11.0"
  }
 },
 "nbformat": 4,
 "nbformat_minor": 2
}
